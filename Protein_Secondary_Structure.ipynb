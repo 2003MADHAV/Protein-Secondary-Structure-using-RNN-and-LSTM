{
  "nbformat": 4,
  "nbformat_minor": 0,
  "metadata": {
    "colab": {
      "provenance": [],
      "authorship_tag": "ABX9TyOj+Ou5XMUU74RV3ofHjFHT",
      "include_colab_link": true
    },
    "kernelspec": {
      "name": "python3",
      "display_name": "Python 3"
    },
    "language_info": {
      "name": "python"
    }
  },
  "cells": [
    {
      "cell_type": "markdown",
      "metadata": {
        "id": "view-in-github",
        "colab_type": "text"
      },
      "source": [
        "<a href=\"https://colab.research.google.com/github/darkknightraj/Protein-Secondary-Structure-using-RNN-and-LSTM/blob/main/Protein_Secondary_Structure.ipynb\" target=\"_parent\"><img src=\"https://colab.research.google.com/assets/colab-badge.svg\" alt=\"Open In Colab\"/></a>"
      ]
    },
    {
      "cell_type": "markdown",
      "source": [
        "#Protein Secondary Structure using RNN and LSTM"
      ],
      "metadata": {
        "id": "2zy96PQoC4AX"
      }
    },
    {
      "cell_type": "code",
      "source": [
        "from google.colab import drive\n",
        "drive.mount('/content/drive')"
      ],
      "metadata": {
        "colab": {
          "base_uri": "https://localhost:8080/"
        },
        "id": "Zi6sW1r2-giE",
        "outputId": "08f9202e-da55-473c-de69-7328ad6c7a7f"
      },
      "execution_count": 1,
      "outputs": [
        {
          "output_type": "stream",
          "name": "stdout",
          "text": [
            "Mounted at /content/drive\n"
          ]
        }
      ]
    },
    {
      "cell_type": "code",
      "source": [
        "%cd /content/drive/MyDrive/Shivam"
      ],
      "metadata": {
        "colab": {
          "base_uri": "https://localhost:8080/"
        },
        "id": "MKrz3tJr-rnY",
        "outputId": "fe79ff6a-afd8-4c67-8fc9-146289f5f596"
      },
      "execution_count": 2,
      "outputs": [
        {
          "output_type": "stream",
          "name": "stdout",
          "text": [
            "/content/drive/MyDrive/Shivam\n"
          ]
        }
      ]
    },
    {
      "cell_type": "code",
      "execution_count": 5,
      "metadata": {
        "colab": {
          "base_uri": "https://localhost:8080/",
          "height": 519
        },
        "id": "ZCDJUelL4LN3",
        "outputId": "61031b6d-1c19-4460-a106-4d7920e34b9d"
      },
      "outputs": [
        {
          "output_type": "stream",
          "name": "stdout",
          "text": [
            "(9078, 11)\n",
            "2101\n"
          ]
        },
        {
          "output_type": "stream",
          "name": "stderr",
          "text": [
            "<ipython-input-5-474d89e52e99>:11: VisibleDeprecationWarning: Creating an ndarray from ragged nested sequences (which is a list-or-tuple of lists-or-tuples-or ndarrays with different lengths or shapes) is deprecated. If you meant to do this, you must specify 'dtype=object' when creating the ndarray.\n",
            "  return np.array([[seq[i:i+n] for i in range(len(seq))] for seq in seqs])\n"
          ]
        },
        {
          "output_type": "display_data",
          "data": {
            "text/plain": [
              "<Figure size 640x480 with 1 Axes>"
            ],
            "image/png": "[encoded data removed]"
          },
          "metadata": {}
        }
      ],
      "source": [
        "import numpy as np\n",
        "import pandas as pd\n",
        "import matplotlib.pyplot as plt\n",
        "%matplotlib inline\n",
        "\n",
        "df = pd.read_csv('/content/drive/MyDrive/Shivam/archive (15).zip (Unzipped Files)/2018-06-06-pdb-intersect-pisces.csv')\n",
        "df.len.hist(bins=100)\n",
        "print(df.shape)\n",
        "\n",
        "def seq2ngrams(seqs, n=3):\n",
        "    return np.array([[seq[i:i+n] for i in range(len(seq))] for seq in seqs])\n",
        "\n",
        "maxlen_seq = 128\n",
        "input_seqs, target_seqs = df[['seq', 'sst3']][(df.len <= maxlen_seq) & (~df.has_nonstd_aa)].values.T\n",
        "input_grams = seq2ngrams(input_seqs)\n",
        "print(len(input_seqs))"
      ]
    },
    {
      "cell_type": "code",
      "source": [
        "from keras.preprocessing import text, sequence\n",
        "from keras.preprocessing.text import Tokenizer\n",
        "from tensorflow.keras.utils import to_categorical\n",
        "\n",
        "tokenizer_encoder = Tokenizer()\n",
        "tokenizer_encoder.fit_on_texts(input_grams)\n",
        "input_data = tokenizer_encoder.texts_to_sequences(input_grams)\n",
        "input_data = sequence.pad_sequences(input_data, maxlen=maxlen_seq, padding='post')\n",
        "\n",
        "tokenizer_decoder = Tokenizer(char_level=True)\n",
        "tokenizer_decoder.fit_on_texts(target_seqs)\n",
        "target_data = tokenizer_decoder.texts_to_sequences(target_seqs)\n",
        "target_data = sequence.pad_sequences(target_data, maxlen=maxlen_seq, padding='post')\n",
        "target_data = to_categorical(target_data)\n",
        "input_data.shape, target_data.shape"
      ],
      "metadata": {
        "colab": {
          "base_uri": "https://localhost:8080/"
        },
        "id": "x7gRL2VQ4uK2",
        "outputId": "d6c89ca8-7cc9-485a-b1d3-74bae2cc7248"
      },
      "execution_count": 6,
      "outputs": [
        {
          "output_type": "execute_result",
          "data": {
            "text/plain": [
              "((2101, 128), (2101, 128, 4))"
            ]
          },
          "metadata": {},
          "execution_count": 6
        }
      ]
    },
    {
      "cell_type": "code",
      "source": [
        "!pip install --upgrade keras tensorflow\n"
      ],
      "metadata": {
        "colab": {
          "base_uri": "https://localhost:8080/",
          "height": 1000
        },
        "id": "RAqDNUFe_mS2",
        "outputId": "debb7f91-cbcc-4f50-9a5f-f95be639e489"
      },
      "execution_count": 9,
      "outputs": [
        {
          "output_type": "stream",
          "name": "stdout",
          "text": [
            "Requirement already satisfied: keras in /usr/local/lib/python3.10/dist-packages (2.13.1)\n",
            "Collecting keras\n",
            "  Downloading keras-2.14.0-py3-none-any.whl (1.7 MB)\n",
            "\u001b[2K     \u001b[90m━━━━━━━━━━━━━━━━━━━━━━━━━━━━━━━━━━━━━━━━\u001b[0m \u001b[32m1.7/1.7 MB\u001b[0m \u001b[31m14.5 MB/s\u001b[0m eta \u001b[36m0:00:00\u001b[0m\n",
            "\u001b[?25hRequirement already satisfied: tensorflow in /usr/local/lib/python3.10/dist-packages (2.13.0)\n",
            "Collecting tensorflow\n",
            "  Downloading tensorflow-2.14.0-cp310-cp310-manylinux_2_17_x86_64.manylinux2014_x86_64.whl (489.8 MB)\n",
            "\u001b[2K     \u001b[90m━━━━━━━━━━━━━━━━━━━━━━━━━━━━━━━━━━━━━━━━\u001b[0m \u001b[32m489.8/489.8 MB\u001b[0m \u001b[31m2.9 MB/s\u001b[0m eta \u001b[36m0:00:00\u001b[0m\n",
            "\u001b[?25hRequirement already satisfied: absl-py>=1.0.0 in /usr/local/lib/python3.10/dist-packages (from tensorflow) (1.4.0)\n",
            "Requirement already satisfied: astunparse>=1.6.0 in /usr/local/lib/python3.10/dist-packages (from tensorflow) (1.6.3)\n",
            "Requirement already satisfied: flatbuffers>=23.5.26 in /usr/local/lib/python3.10/dist-packages (from tensorflow) (23.5.26)\n",
            "Requirement already satisfied: gast!=0.5.0,!=0.5.1,!=0.5.2,>=0.2.1 in /usr/local/lib/python3.10/dist-packages (from tensorflow) (0.4.0)\n",
            "Requirement already satisfied: google-pasta>=0.1.1 in /usr/local/lib/python3.10/dist-packages (from tensorflow) (0.2.0)\n",
            "Requirement already satisfied: h5py>=2.9.0 in /usr/local/lib/python3.10/dist-packages (from tensorflow) (3.9.0)\n",
            "Requirement already satisfied: libclang>=13.0.0 in /usr/local/lib/python3.10/dist-packages (from tensorflow) (16.0.6)\n",
            "Collecting ml-dtypes==0.2.0 (from tensorflow)\n",
            "  Downloading ml_dtypes-0.2.0-cp310-cp310-manylinux_2_17_x86_64.manylinux2014_x86_64.whl (1.0 MB)\n",
            "\u001b[2K     \u001b[90m━━━━━━━━━━━━━━━━━━━━━━━━━━━━━━━━━━━━━━━━\u001b[0m \u001b[32m1.0/1.0 MB\u001b[0m \u001b[31m57.3 MB/s\u001b[0m eta \u001b[36m0:00:00\u001b[0m\n",
            "\u001b[?25hRequirement already satisfied: numpy>=1.23.5 in /usr/local/lib/python3.10/dist-packages (from tensorflow) (1.23.5)\n",
            "Requirement already satisfied: opt-einsum>=2.3.2 in /usr/local/lib/python3.10/dist-packages (from tensorflow) (3.3.0)\n",
            "Requirement already satisfied: packaging in /usr/local/lib/python3.10/dist-packages (from tensorflow) (23.2)\n",
            "Requirement already satisfied: protobuf!=4.21.0,!=4.21.1,!=4.21.2,!=4.21.3,!=4.21.4,!=4.21.5,<5.0.0dev,>=3.20.3 in /usr/local/lib/python3.10/dist-packages (from tensorflow) (3.20.3)\n",
            "Requirement already satisfied: setuptools in /usr/local/lib/python3.10/dist-packages (from tensorflow) (67.7.2)\n",
            "Requirement already satisfied: six>=1.12.0 in /usr/local/lib/python3.10/dist-packages (from tensorflow) (1.16.0)\n",
            "Requirement already satisfied: termcolor>=1.1.0 in /usr/local/lib/python3.10/dist-packages (from tensorflow) (2.3.0)\n",
            "Requirement already satisfied: typing-extensions>=3.6.6 in /usr/local/lib/python3.10/dist-packages (from tensorflow) (4.5.0)\n",
            "Collecting wrapt<1.15,>=1.11.0 (from tensorflow)\n",
            "  Downloading wrapt-1.14.1-cp310-cp310-manylinux_2_5_x86_64.manylinux1_x86_64.manylinux_2_17_x86_64.manylinux2014_x86_64.whl (77 kB)\n",
            "\u001b[2K     \u001b[90m━━━━━━━━━━━━━━━━━━━━━━━━━━━━━━━━━━━━━━━━\u001b[0m \u001b[32m77.9/77.9 kB\u001b[0m \u001b[31m8.0 MB/s\u001b[0m eta \u001b[36m0:00:00\u001b[0m\n",
            "\u001b[?25hRequirement already satisfied: tensorflow-io-gcs-filesystem>=0.23.1 in /usr/local/lib/python3.10/dist-packages (from tensorflow) (0.34.0)\n",
            "Requirement already satisfied: grpcio<2.0,>=1.24.3 in /usr/local/lib/python3.10/dist-packages (from tensorflow) (1.59.0)\n",
            "Collecting tensorboard<2.15,>=2.14 (from tensorflow)\n",
            "  Downloading tensorboard-2.14.1-py3-none-any.whl (5.5 MB)\n",
            "\u001b[2K     \u001b[90m━━━━━━━━━━━━━━━━━━━━━━━━━━━━━━━━━━━━━━━━\u001b[0m \u001b[32m5.5/5.5 MB\u001b[0m \u001b[31m37.5 MB/s\u001b[0m eta \u001b[36m0:00:00\u001b[0m\n",
            "\u001b[?25hCollecting tensorflow-estimator<2.15,>=2.14.0 (from tensorflow)\n",
            "  Downloading tensorflow_estimator-2.14.0-py2.py3-none-any.whl (440 kB)\n",
            "\u001b[2K     \u001b[90m━━━━━━━━━━━━━━━━━━━━━━━━━━━━━━━━━━━━━━━━\u001b[0m \u001b[32m440.7/440.7 kB\u001b[0m \u001b[31m26.1 MB/s\u001b[0m eta \u001b[36m0:00:00\u001b[0m\n",
            "\u001b[?25hRequirement already satisfied: wheel<1.0,>=0.23.0 in /usr/local/lib/python3.10/dist-packages (from astunparse>=1.6.0->tensorflow) (0.41.2)\n",
            "Requirement already satisfied: google-auth<3,>=1.6.3 in /usr/local/lib/python3.10/dist-packages (from tensorboard<2.15,>=2.14->tensorflow) (2.17.3)\n",
            "Requirement already satisfied: google-auth-oauthlib<1.1,>=0.5 in /usr/local/lib/python3.10/dist-packages (from tensorboard<2.15,>=2.14->tensorflow) (1.0.0)\n",
            "Requirement already satisfied: markdown>=2.6.8 in /usr/local/lib/python3.10/dist-packages (from tensorboard<2.15,>=2.14->tensorflow) (3.5)\n",
            "Requirement already satisfied: requests<3,>=2.21.0 in /usr/local/lib/python3.10/dist-packages (from tensorboard<2.15,>=2.14->tensorflow) (2.31.0)\n",
            "Requirement already satisfied: tensorboard-data-server<0.8.0,>=0.7.0 in /usr/local/lib/python3.10/dist-packages (from tensorboard<2.15,>=2.14->tensorflow) (0.7.1)\n",
            "Requirement already satisfied: werkzeug>=1.0.1 in /usr/local/lib/python3.10/dist-packages (from tensorboard<2.15,>=2.14->tensorflow) (3.0.0)\n",
            "Requirement already satisfied: cachetools<6.0,>=2.0.0 in /usr/local/lib/python3.10/dist-packages (from google-auth<3,>=1.6.3->tensorboard<2.15,>=2.14->tensorflow) (5.3.1)\n",
            "Requirement already satisfied: pyasn1-modules>=0.2.1 in /usr/local/lib/python3.10/dist-packages (from google-auth<3,>=1.6.3->tensorboard<2.15,>=2.14->tensorflow) (0.3.0)\n",
            "Requirement already satisfied: rsa<5,>=3.1.4 in /usr/local/lib/python3.10/dist-packages (from google-auth<3,>=1.6.3->tensorboard<2.15,>=2.14->tensorflow) (4.9)\n",
            "Requirement already satisfied: requests-oauthlib>=0.7.0 in /usr/local/lib/python3.10/dist-packages (from google-auth-oauthlib<1.1,>=0.5->tensorboard<2.15,>=2.14->tensorflow) (1.3.1)\n",
            "Requirement already satisfied: charset-normalizer<4,>=2 in /usr/local/lib/python3.10/dist-packages (from requests<3,>=2.21.0->tensorboard<2.15,>=2.14->tensorflow) (3.3.0)\n",
            "Requirement already satisfied: idna<4,>=2.5 in /usr/local/lib/python3.10/dist-packages (from requests<3,>=2.21.0->tensorboard<2.15,>=2.14->tensorflow) (3.4)\n",
            "Requirement already satisfied: urllib3<3,>=1.21.1 in /usr/local/lib/python3.10/dist-packages (from requests<3,>=2.21.0->tensorboard<2.15,>=2.14->tensorflow) (2.0.6)\n",
            "Requirement already satisfied: certifi>=2017.4.17 in /usr/local/lib/python3.10/dist-packages (from requests<3,>=2.21.0->tensorboard<2.15,>=2.14->tensorflow) (2023.7.22)\n",
            "Requirement already satisfied: MarkupSafe>=2.1.1 in /usr/local/lib/python3.10/dist-packages (from werkzeug>=1.0.1->tensorboard<2.15,>=2.14->tensorflow) (2.1.3)\n",
            "Requirement already satisfied: pyasn1<0.6.0,>=0.4.6 in /usr/local/lib/python3.10/dist-packages (from pyasn1-modules>=0.2.1->google-auth<3,>=1.6.3->tensorboard<2.15,>=2.14->tensorflow) (0.5.0)\n",
            "Requirement already satisfied: oauthlib>=3.0.0 in /usr/local/lib/python3.10/dist-packages (from requests-oauthlib>=0.7.0->google-auth-oauthlib<1.1,>=0.5->tensorboard<2.15,>=2.14->tensorflow) (3.2.2)\n",
            "Installing collected packages: wrapt, tensorflow-estimator, ml-dtypes, keras, tensorboard, tensorflow\n",
            "  Attempting uninstall: wrapt\n",
            "    Found existing installation: wrapt 1.15.0\n",
            "    Uninstalling wrapt-1.15.0:\n",
            "      Successfully uninstalled wrapt-1.15.0\n",
            "  Attempting uninstall: tensorflow-estimator\n",
            "    Found existing installation: tensorflow-estimator 2.13.0\n",
            "    Uninstalling tensorflow-estimator-2.13.0:\n",
            "      Successfully uninstalled tensorflow-estimator-2.13.0\n",
            "  Attempting uninstall: ml-dtypes\n",
            "    Found existing installation: ml-dtypes 0.3.1\n",
            "    Uninstalling ml-dtypes-0.3.1:\n",
            "      Successfully uninstalled ml-dtypes-0.3.1\n",
            "  Attempting uninstall: keras\n",
            "    Found existing installation: keras 2.13.1\n",
            "    Uninstalling keras-2.13.1:\n",
            "      Successfully uninstalled keras-2.13.1\n",
            "  Attempting uninstall: tensorboard\n",
            "    Found existing installation: tensorboard 2.13.0\n",
            "    Uninstalling tensorboard-2.13.0:\n",
            "      Successfully uninstalled tensorboard-2.13.0\n",
            "  Attempting uninstall: tensorflow\n",
            "    Found existing installation: tensorflow 2.13.0\n",
            "    Uninstalling tensorflow-2.13.0:\n",
            "      Successfully uninstalled tensorflow-2.13.0\n",
            "Successfully installed keras-2.14.0 ml-dtypes-0.2.0 tensorboard-2.14.1 tensorflow-2.14.0 tensorflow-estimator-2.14.0 wrapt-1.14.1\n"
          ]
        },
        {
          "output_type": "display_data",
          "data": {
            "application/vnd.colab-display-data+json": {
              "pip_warning": {
                "packages": [
                  "keras",
                  "ml_dtypes",
                  "tensorboard",
                  "tensorflow",
                  "wrapt"
                ]
              }
            }
          },
          "metadata": {}
        }
      ]
    },
    {
      "cell_type": "code",
      "source": [
        "#from keras.models import Model, Input\n",
        "from keras.layers import Input\n",
        "from tensorflow.keras.layers import Input\n",
        "\n",
        "from keras.layers import LSTM, Embedding, Dense, TimeDistributed, Bidirectional\n",
        "\n",
        "n_words = len(tokenizer_encoder.word_index) + 1\n",
        "n_tags = len(tokenizer_decoder.word_index) + 1\n",
        "print(n_words, n_tags)\n",
        "\n",
        "input = Input(shape=(maxlen_seq,))\n",
        "x = Embedding(input_dim=n_words, output_dim=128, input_length=maxlen_seq)(input)\n",
        "x = Bidirectional(LSTM(units=64, return_sequences=True, recurrent_dropout=0.1))(x)\n",
        "y = TimeDistributed(Dense(n_tags, activation=\"softmax\"))(x)\n",
        "model = Model(input, y)\n",
        "model.summary()"
      ],
      "metadata": {
        "colab": {
          "base_uri": "https://localhost:8080/"
        },
        "id": "41sEBLNC-eX3",
        "outputId": "816d9555-0951-491a-9f2d-627db85609b5"
      },
      "execution_count": 7,
      "outputs": [
        {
          "output_type": "stream",
          "name": "stdout",
          "text": [
            "8301 4\n",
            "Model: \"model\"\n",
            "_________________________________________________________________\n",
            " Layer (type)                Output Shape              Param #   \n",
            "=================================================================\n",
            " input_1 (InputLayer)        [(None, 128)]             0         \n",
            "                                                                 \n",
            " embedding (Embedding)       (None, 128, 128)          1062528   \n",
            "                                                                 \n",
            " bidirectional (Bidirection  (None, 128, 128)          98816     \n",
            " al)                                                             \n",
            "                                                                 \n",
            " time_distributed (TimeDist  (None, 128, 4)            516       \n",
            " ributed)                                                        \n",
            "                                                                 \n",
            "=================================================================\n",
            "Total params: 1161860 (4.43 MB)\n",
            "Trainable params: 1161860 (4.43 MB)\n",
            "Non-trainable params: 0 (0.00 Byte)\n",
            "_________________________________________________________________\n"
          ]
        }
      ]
    },
    {
      "cell_type": "code",
      "source": [
        "from sklearn.model_selection import train_test_split\n",
        "from keras.metrics import categorical_accuracy\n",
        "from keras import backend  as K\n",
        "import tensorflow as tf\n",
        "\n",
        "def q3_acc(y_true, y_pred):\n",
        "    y = tf.argmax(y_true, axis=-1)\n",
        "    y_ = tf.argmax(y_pred, axis=-1)\n",
        "    mask = tf.greater(y, 0)\n",
        "    return K.cast(K.equal(tf.boolean_mask(y, mask), tf.boolean_mask(y_, mask)), K.floatx())\n",
        "\n",
        "model.compile(optimizer=\"adam\", loss=\"categorical_crossentropy\", metrics=[\"accuracy\", q3_acc])\n",
        "\n",
        "X_train, X_test, y_train, y_test = train_test_split(input_data, target_data, test_size=.4, random_state=0)\n",
        "seq_train, seq_test, target_train, target_test = train_test_split(input_seqs, target_seqs, test_size=.4, random_state=0)\n",
        "\n",
        "model.fit(X_train, y_train, batch_size=128, epochs=25, validation_data=(X_test, y_test), verbose=1)\n"
      ],
      "metadata": {
        "colab": {
          "base_uri": "https://localhost:8080/"
        },
        "id": "t43oKgJT_upe",
        "outputId": "35bdb5f9-fd4e-440e-e2d3-4f2a81917eb9"
      },
      "execution_count": 9,
      "outputs": [
        {
          "output_type": "stream",
          "name": "stdout",
          "text": [
            "Epoch 1/25\n",
            "10/10 [==============================] - 21s 1s/step - loss: 0.5713 - accuracy: 0.7286 - q3_acc: 0.6011 - val_loss: 0.6367 - val_accuracy: 0.6896 - val_q3_acc: 0.5351\n",
            "Epoch 2/25\n",
            "10/10 [==============================] - 8s 804ms/step - loss: 0.5241 - accuracy: 0.7562 - q3_acc: 0.6416 - val_loss: 0.6411 - val_accuracy: 0.6950 - val_q3_acc: 0.5432\n",
            "Epoch 3/25\n",
            "10/10 [==============================] - 10s 1s/step - loss: 0.4873 - accuracy: 0.7783 - q3_acc: 0.6742 - val_loss: 0.6490 - val_accuracy: 0.6992 - val_q3_acc: 0.5496\n",
            "Epoch 4/25\n",
            "10/10 [==============================] - 9s 852ms/step - loss: 0.4538 - accuracy: 0.7954 - q3_acc: 0.6993 - val_loss: 0.6630 - val_accuracy: 0.7011 - val_q3_acc: 0.5524\n",
            "Epoch 5/25\n",
            "10/10 [==============================] - 10s 1s/step - loss: 0.4218 - accuracy: 0.8138 - q3_acc: 0.7263 - val_loss: 0.6740 - val_accuracy: 0.7066 - val_q3_acc: 0.5606\n",
            "Epoch 6/25\n",
            "10/10 [==============================] - 8s 747ms/step - loss: 0.3922 - accuracy: 0.8301 - q3_acc: 0.7503 - val_loss: 0.6891 - val_accuracy: 0.7139 - val_q3_acc: 0.5715\n",
            "Epoch 7/25\n",
            "10/10 [==============================] - 10s 1s/step - loss: 0.3642 - accuracy: 0.8449 - q3_acc: 0.7720 - val_loss: 0.7091 - val_accuracy: 0.7190 - val_q3_acc: 0.5792\n",
            "Epoch 8/25\n",
            "10/10 [==============================] - 7s 700ms/step - loss: 0.3405 - accuracy: 0.8566 - q3_acc: 0.7891 - val_loss: 0.7294 - val_accuracy: 0.7237 - val_q3_acc: 0.5862\n",
            "Epoch 9/25\n",
            "10/10 [==============================] - 11s 1s/step - loss: 0.3192 - accuracy: 0.8681 - q3_acc: 0.8061 - val_loss: 0.7567 - val_accuracy: 0.7238 - val_q3_acc: 0.5864\n",
            "Epoch 10/25\n",
            "10/10 [==============================] - 8s 745ms/step - loss: 0.2990 - accuracy: 0.8767 - q3_acc: 0.8188 - val_loss: 0.7719 - val_accuracy: 0.7255 - val_q3_acc: 0.5889\n",
            "Epoch 11/25\n",
            "10/10 [==============================] - 11s 1s/step - loss: 0.2833 - accuracy: 0.8840 - q3_acc: 0.8294 - val_loss: 0.8031 - val_accuracy: 0.7246 - val_q3_acc: 0.5877\n",
            "Epoch 12/25\n",
            "10/10 [==============================] - 7s 741ms/step - loss: 0.2677 - accuracy: 0.8902 - q3_acc: 0.8386 - val_loss: 0.8173 - val_accuracy: 0.7245 - val_q3_acc: 0.5874\n",
            "Epoch 13/25\n",
            "10/10 [==============================] - 10s 1s/step - loss: 0.2555 - accuracy: 0.8956 - q3_acc: 0.8465 - val_loss: 0.8438 - val_accuracy: 0.7245 - val_q3_acc: 0.5874\n",
            "Epoch 14/25\n",
            "10/10 [==============================] - 9s 937ms/step - loss: 0.2429 - accuracy: 0.9015 - q3_acc: 0.8552 - val_loss: 0.8677 - val_accuracy: 0.7245 - val_q3_acc: 0.5874\n",
            "Epoch 15/25\n",
            "10/10 [==============================] - 11s 1s/step - loss: 0.2323 - accuracy: 0.9061 - q3_acc: 0.8619 - val_loss: 0.8810 - val_accuracy: 0.7255 - val_q3_acc: 0.5889\n",
            "Epoch 16/25\n",
            "10/10 [==============================] - 7s 748ms/step - loss: 0.2199 - accuracy: 0.9117 - q3_acc: 0.8701 - val_loss: 0.9048 - val_accuracy: 0.7244 - val_q3_acc: 0.5872\n",
            "Epoch 17/25\n",
            "10/10 [==============================] - 11s 1s/step - loss: 0.2077 - accuracy: 0.9169 - q3_acc: 0.8778 - val_loss: 0.9364 - val_accuracy: 0.7230 - val_q3_acc: 0.5852\n",
            "Epoch 18/25\n",
            "10/10 [==============================] - 7s 696ms/step - loss: 0.1967 - accuracy: 0.9219 - q3_acc: 0.8852 - val_loss: 0.9745 - val_accuracy: 0.7233 - val_q3_acc: 0.5857\n",
            "Epoch 19/25\n",
            "10/10 [==============================] - 11s 1s/step - loss: 0.1896 - accuracy: 0.9253 - q3_acc: 0.8902 - val_loss: 0.9910 - val_accuracy: 0.7207 - val_q3_acc: 0.5817\n",
            "Epoch 20/25\n",
            "10/10 [==============================] - 7s 716ms/step - loss: 0.1814 - accuracy: 0.9287 - q3_acc: 0.8952 - val_loss: 1.0259 - val_accuracy: 0.7190 - val_q3_acc: 0.5791\n",
            "Epoch 21/25\n",
            "10/10 [==============================] - 11s 1s/step - loss: 0.1718 - accuracy: 0.9332 - q3_acc: 0.9018 - val_loss: 1.0485 - val_accuracy: 0.7199 - val_q3_acc: 0.5805\n",
            "Epoch 22/25\n",
            "10/10 [==============================] - 7s 750ms/step - loss: 0.1646 - accuracy: 0.9369 - q3_acc: 0.9072 - val_loss: 1.0812 - val_accuracy: 0.7197 - val_q3_acc: 0.5803\n",
            "Epoch 23/25\n",
            "10/10 [==============================] - 14s 1s/step - loss: 0.1585 - accuracy: 0.9386 - q3_acc: 0.9097 - val_loss: 1.1024 - val_accuracy: 0.7182 - val_q3_acc: 0.5781\n",
            "Epoch 24/25\n",
            "10/10 [==============================] - 13s 1s/step - loss: 0.1527 - accuracy: 0.9410 - q3_acc: 0.9133 - val_loss: 1.1198 - val_accuracy: 0.7180 - val_q3_acc: 0.5777\n",
            "Epoch 25/25\n",
            "10/10 [==============================] - 12s 1s/step - loss: 0.1456 - accuracy: 0.9449 - q3_acc: 0.9190 - val_loss: 1.1483 - val_accuracy: 0.7178 - val_q3_acc: 0.5774\n"
          ]
        },
        {
          "output_type": "execute_result",
          "data": {
            "text/plain": [
              "<keras.src.callbacks.History at 0x7eb4edbf0100>"
            ]
          },
          "metadata": {},
          "execution_count": 9
        }
      ]
    },
    {
      "cell_type": "code",
      "source": [
        "def onehot_to_seq(oh_seq, index):\n",
        "    s = ''\n",
        "    for o in oh_seq:\n",
        "        i = np.argmax(o)\n",
        "        if i != 0:\n",
        "            s += index[i]\n",
        "        else:\n",
        "            break\n",
        "    return s\n",
        "\n",
        "def plot_results(x, y, y_):\n",
        "    print(\"---\")\n",
        "    print(\"Input: \" + str(x))\n",
        "    print(\"Target: \" + str(onehot_to_seq(y, revsere_decoder_index).upper()))\n",
        "    print(\"Result: \" + str(onehot_to_seq(y_, revsere_decoder_index).upper()))\n",
        "    fig = plt.figure(figsize=(10,2))\n",
        "    plt.imshow(y.T, cmap='Blues')\n",
        "    plt.imshow(y_.T, cmap='Reds', alpha=.5)\n",
        "    plt.yticks(range(4), [' '] + [revsere_decoder_index[i+1].upper() for i in range(3)])\n",
        "    plt.show()\n",
        "\n",
        "revsere_decoder_index = {value:key for key,value in tokenizer_decoder.word_index.items()}\n",
        "revsere_encoder_index = {value:key for key,value in tokenizer_encoder.word_index.items()}\n",
        "\n",
        "N=3\n",
        "y_train_pred = model.predict(X_train[:N])\n",
        "y_test_pred = model.predict(X_test[:N])\n",
        "print('training')\n",
        "for i in range(N):\n",
        "    plot_results(seq_train[i], y_train[i], y_train_pred[i])\n",
        "print('testing')\n",
        "for i in range(N):\n",
        "    plot_results(seq_test[i], y_test[i], y_test_pred[i])"
      ],
      "metadata": {
        "colab": {
          "base_uri": "https://localhost:8080/",
          "height": 923
        },
        "id": "H7MT1jITADKt",
        "outputId": "edc77aa7-82af-4ee4-8c3f-e0e2a205a5f6"
      },
      "execution_count": 10,
      "outputs": [
        {
          "output_type": "stream",
          "name": "stdout",
          "text": [
            "1/1 [==============================] - 1s 596ms/step\n",
            "1/1 [==============================] - 0s 53ms/step\n",
            "training\n",
            "---\n",
            "Input: APTRQPSPVTRPWQHVDAIKEALSLLNDSTDTAAVMDETVEVVSEMFDSQEPTCLQTRLELYKQGLRGSLTSLTGSLTMMASHYKKHCPPTQETSCETQIITFKSFKENLKDFLFIIPFDCWEPVQK\n",
            "Target: CCCCCCCCCCCCCHHHHHHHHHHHHHHCCCCCHHHHCCEEEEECCCCCCCCCCCHHHHHHHHHHHCCHHHHHHHHHHHHHHHHHHHHCCCCCCCCCCEEEEEHHHHHHHHHHHHHHCCCCCCCCCCC\n",
            "Result: CCCCCCCCCCCCCHHHHHHHHHHHHHHCCCHHHHHHCCCCCEECCCCCCCCCCHHHHHHHHHHHHHHHHHHHHHHHHHHHHHHHHHHCCCCCCCCCCEEEEEEHHHHHHHHHHHHHCCCCCCCCCCC\n"
          ]
        },
        {
          "output_type": "display_data",
          "data": {
            "text/plain": [
              "<Figure size 1000x200 with 1 Axes>"
            ],
            "image/png": "[encoded data removed]"
          },
          "metadata": {}
        },
        {
          "output_type": "stream",
          "name": "stdout",
          "text": [
            "---\n",
            "Input: QGQFFREIENLKEYFNASSPDVAKGGPLFSEILKNWKDESDKKIIQSQIVSFYFKLFENLKDNQVIQRSMDIIKQDMFQKFLNGSSEKLEDFKKLIQIPVDDLQIQRKAINELIKVMNDLS\n",
            "Target: CCCHHHHHHHHHHHHCCCCHHHHCCCCCCHHHHHHCCCCCCCHHHHHHHHHHHHHHHHHCCCCCCCHHHHHHHHHHHHHHHCCCCHHHHHHHHHHHCCCCCCHHHHHHHHHCHHHHHHHCC\n",
            "Result: CCCHHHHHHHHHHHHCCCCHHHHCCCCCHHHHHHHCCCCCCHHHHHHHHHHHHHHHHHHCCCCCCCHHHHHHHHHHHHHHHCCCCHHHHHHHHHHHCCCCCCHHHHHHHHHHHHHHHHHHC\n"
          ]
        },
        {
          "output_type": "display_data",
          "data": {
            "text/plain": [
              "<Figure size 1000x200 with 1 Axes>"
            ],
            "image/png": "[encoded data removed]"
          },
          "metadata": {}
        },
        {
          "output_type": "stream",
          "name": "stdout",
          "text": [
            "---\n",
            "Input: EPAAAPAPTKEEVLLTEIRDLLKEQNNRS\n",
            "Target: CCCCCCCCCHHHHHHHHHHHHHHHHHHHC\n",
            "Result: CCCCCCCCHHHHHHHHHHHHHHHHHHHCC\n"
          ]
        },
        {
          "output_type": "display_data",
          "data": {
            "text/plain": [
              "<Figure size 1000x200 with 1 Axes>"
            ],
            "image/png": "[encoded data removed]"
          },
          "metadata": {}
        },
        {
          "output_type": "stream",
          "name": "stdout",
          "text": [
            "testing\n",
            "---\n",
            "Input: GSHMSASCGSGNFNKTAAKGVEFSAVAGDCIKYNKSSGTLQIGSWTGVASSYNITSGPQGITNTGNGWTTVANAANGDLYIKIVSASRSFNVKFDNW\n",
            "Target: CCCCCCCCCCCCCCEECCCCCCEEECCCCEEEEEECCCCEEEEECCCCCEEEEECCCCCCEEECCCEEEEECCCCCEEEEEEEEEECCCEEEEEEEC\n",
            "Result: CCCCCCEEECCCCCCCECCEEEEECCCCCEEEECCCCCCEEEEEEEEEEEEEECCCCCCCCCCCCHHHHEHHHCCCCCEEEEEEEEECEEEECCCCC\n"
          ]
        },
        {
          "output_type": "display_data",
          "data": {
            "text/plain": [
              "<Figure size 1000x200 with 1 Axes>"
            ],
            "image/png": "[encoded data removed]"
          },
          "metadata": {}
        },
        {
          "output_type": "stream",
          "name": "stdout",
          "text": [
            "---\n",
            "Input: MKKRSKARKETYSSYIYKVLKQTHPDTGISQKSMSILNSFVNDIFERIATEASKLAAYNKKSTISAREIQTAVRLILPGELAKHAVSEGTRAVTKYSSSTQA\n",
            "Target: CCCCCCCCCCCCHHHHHHHHHHHCCCCEEEHHHHHHHHHHHHHHHHHHHHHHHHHHHHCCCCEECHHHHHHHHHHHCCHHHHHHHHHHHHHHHHHHHCCCCC\n",
            "Result: CCCHCCCCCHHHHHHHHHHHHHHHHHCCCCCHHHHHHHHHHHHHHHHHHHHHHHHHCCCHHHHHHHHHHHHHHHHHHHHHHHHHHHCCCCCCCCCCCCCCCC\n"
          ]
        },
        {
          "output_type": "display_data",
          "data": {
            "text/plain": [
              "<Figure size 1000x200 with 1 Axes>"
            ],
            "image/png": "[encoded data removed]"
          },
          "metadata": {}
        },
        {
          "output_type": "stream",
          "name": "stdout",
          "text": [
            "---\n",
            "Input: GPSSPSVSDYTRANFGGLSEGEAQFSMTARALLDELTDLEGKLRAKLDRWDGDAQAAYWNYQKEWDAAAKDMQNVVAQLGVAIREAHDNYQAAERANTSIWAG\n",
            "Target: CCCCCCHHHHHHHHHHHHHHHHHHHHHHHHHHHHHHHHHHHHHHCCHHHCCHHHHHHHHHHHHHHHHHHHHHHHHHHHHHHHHHHHCCCCCCCCCCCCCCCCC\n",
            "Result: CCCCCCCCCCCCCCCCCCCCCCHCHHHHHHCCCCCCCCHCCHHHHHCCCCCCCCCCCCCCCCCHHHHHHHHHHHHHHHHHHHHHHHHCHHHHHHCCCCCCCCC\n"
          ]
        },
        {
          "output_type": "display_data",
          "data": {
            "text/plain": [
              "<Figure size 1000x200 with 1 Axes>"
            ],
            "image/png": "[encoded data removed]"
          },
          "metadata": {}
        }
      ]
    }
  ]
}